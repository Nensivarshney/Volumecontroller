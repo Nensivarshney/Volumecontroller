{
 "cells": [
  {
   "cell_type": "markdown",
   "id": "d90fd665-028d-4ff6-98b5-96453d394278",
   "metadata": {},
   "source": [
    "# pip install mediapipe"
   ]
  },
  {
   "cell_type": "markdown",
   "id": "94ffdc5a-10e7-4051-8099-4c04dea0d1b0",
   "metadata": {},
   "source": [
    "# pip install comtypes"
   ]
  },
  {
   "cell_type": "markdown",
   "id": "f986325a-d506-4316-a590-aefce0291258",
   "metadata": {},
   "source": [
    "# pip install pycaw"
   ]
  },
  {
   "cell_type": "code",
   "execution_count": 5,
   "id": "47dda8ea-04b4-45b5-b260-e70fe21e2fea",
   "metadata": {},
   "outputs": [
    {
     "name": "stderr",
     "output_type": "stream",
     "text": [
      "C:\\Users\\PC\\anaconda3\\Lib\\site-packages\\google\\protobuf\\symbol_database.py:55: UserWarning: SymbolDatabase.GetPrototype() is deprecated. Please use message_factory.GetMessageClass() instead. SymbolDatabase.GetPrototype() will be removed soon.\n",
      "  warnings.warn('SymbolDatabase.GetPrototype() is deprecated. Please '\n"
     ]
    }
   ],
   "source": [
    "import cv2\n",
    "import mediapipe as mp\n",
    "import numpy as np\n",
    "from ctypes import cast, POINTER\n",
    "from comtypes import CLSCTX_ALL\n",
    "from pycaw.pycaw import AudioUtilities, IAudioEndpointVolume\n",
    "\n",
    "# Initialize Mediapipe and Pycaw\n",
    "mp_hands = mp.solutions.hands\n",
    "mp_drawing = mp.solutions.drawing_utils\n",
    "\n",
    "# Set up Pycaw for volume control\n",
    "devices = AudioUtilities.GetSpeakers()\n",
    "interface = devices.Activate(\n",
    "    IAudioEndpointVolume._iid_, CLSCTX_ALL, None)\n",
    "volume = cast(interface, POINTER(IAudioEndpointVolume))\n",
    "\n",
    "# Get the volume range\n",
    "vol_range = volume.GetVolumeRange()\n",
    "min_vol = vol_range[0]\n",
    "max_vol = vol_range[1]\n",
    "\n",
    "def calculate_distance(point1, point2):\n",
    "    return np.linalg.norm(np.array(point1) - np.array(point2))\n",
    "\n",
    "def volume_control_from_distance(distance, min_distance, max_distance):\n",
    "    # Normalize the distance\n",
    "    norm_distance = np.clip((distance - min_distance) / (max_distance - min_distance), 0, 1)\n",
    "    # Map the normalized distance to the volume range\n",
    "    return norm_distance * (max_vol - min_vol) + min_vol\n",
    "\n",
    "# Initialize the webcam\n",
    "cap = cv2.VideoCapture(0)\n",
    "\n",
    "# Set up Mediapipe hand detection\n",
    "with mp_hands.Hands(min_detection_confidence=0.7, min_tracking_confidence=0.7) as hands:\n",
    "    while cap.isOpened():\n",
    "        ret, frame = cap.read()\n",
    "        \n",
    "        if not ret:\n",
    "            print(\"Failed to grab frame\")\n",
    "            break\n",
    "\n",
    "        # Flip the frame horizontally for a later selfie-view display\n",
    "        frame = cv2.flip(frame, 1)\n",
    "        \n",
    "        # Convert the BGR image to RGB\n",
    "        rgb_frame = cv2.cvtColor(frame, cv2.COLOR_BGR2RGB)\n",
    "        \n",
    "        # Process the frame and find hands\n",
    "        result = hands.process(rgb_frame)\n",
    "        \n",
    "        if result.multi_hand_landmarks:\n",
    "            for hand_landmarks in result.multi_hand_landmarks:\n",
    "                # Draw the hand landmarks on the frame\n",
    "                mp_drawing.draw_landmarks(frame, hand_landmarks, mp_hands.HAND_CONNECTIONS)\n",
    "                \n",
    "                # Get coordinates of the thumb tip (landmark 4) and index finger tip (landmark 8)\n",
    "                thumb_tip = hand_landmarks.landmark[4]\n",
    "                index_tip = hand_landmarks.landmark[8]\n",
    "                \n",
    "                # Convert normalized coordinates to pixel values\n",
    "                h, w, _ = frame.shape\n",
    "                thumb_tip_coords = (int(thumb_tip.x * w), int(thumb_tip.y * h))\n",
    "                index_tip_coords = (int(index_tip.x * w), int(index_tip.y * h))\n",
    "                \n",
    "                # Calculate the distance between thumb and index finger tips\n",
    "                distance = calculate_distance(thumb_tip_coords, index_tip_coords)\n",
    "                \n",
    "                # Map the distance to the volume range and set the system volume\n",
    "                vol = volume_control_from_distance(distance, 30, 200)  # Adjust min_distance and max_distance as needed\n",
    "                volume.SetMasterVolumeLevel(vol, None)\n",
    "                \n",
    "                # Display the distance and volume on the frame\n",
    "                cv2.putText(frame, f'Distance: {int(distance)}', (10, 30), cv2.FONT_HERSHEY_SIMPLEX, 1, (255, 0, 0), 2)\n",
    "                cv2.putText(frame, f'Volume: {int((vol - min_vol) / (max_vol - min_vol) * 100)}%', (10, 60), cv2.FONT_HERSHEY_SIMPLEX, 1, (255, 0, 0), 2)\n",
    "        \n",
    "        # Display the frame with the contours drawn\n",
    "        cv2.imshow('Gesture Volume Control', frame)\n",
    "        \n",
    "        # Break the loop on 'q' key press\n",
    "        if cv2.waitKey(1) & 0xFF == ord('q'):\n",
    "            break\n",
    "\n",
    "# Release the webcam and close the window\n",
    "cap.release()\n",
    "cv2.destroyAllWindows()"
   ]
  },
  {
   "cell_type": "code",
   "execution_count": null,
   "id": "90bffd55-71ad-4559-a006-8e9a28686ed5",
   "metadata": {},
   "outputs": [],
   "source": []
  },
  {
   "cell_type": "code",
   "execution_count": null,
   "id": "00470595-876e-4a86-8081-4af1a98aba65",
   "metadata": {},
   "outputs": [],
   "source": []
  }
 ],
 "metadata": {
  "kernelspec": {
   "display_name": "Python 3 (ipykernel)",
   "language": "python",
   "name": "python3"
  },
  "language_info": {
   "codemirror_mode": {
    "name": "ipython",
    "version": 3
   },
   "file_extension": ".py",
   "mimetype": "text/x-python",
   "name": "python",
   "nbconvert_exporter": "python",
   "pygments_lexer": "ipython3",
   "version": "3.11.7"
  }
 },
 "nbformat": 4,
 "nbformat_minor": 5
}
